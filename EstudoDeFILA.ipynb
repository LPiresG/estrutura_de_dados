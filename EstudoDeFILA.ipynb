{
  "nbformat": 4,
  "nbformat_minor": 0,
  "metadata": {
    "colab": {
      "provenance": [],
      "authorship_tag": "ABX9TyPV2eostLl26wrZ9WhtLE5g",
      "include_colab_link": true
    },
    "kernelspec": {
      "name": "python3",
      "display_name": "Python 3"
    },
    "language_info": {
      "name": "python"
    }
  },
  "cells": [
    {
      "cell_type": "markdown",
      "metadata": {
        "id": "view-in-github",
        "colab_type": "text"
      },
      "source": [
        "<a href=\"https://colab.research.google.com/github/LPiresG/estrutura_de_dados/blob/main/EstudoDeFILA.ipynb\" target=\"_parent\"><img src=\"https://colab.research.google.com/assets/colab-badge.svg\" alt=\"Open In Colab\"/></a>"
      ]
    },
    {
      "cell_type": "code",
      "execution_count": null,
      "metadata": {
        "colab": {
          "base_uri": "https://localhost:8080/"
        },
        "id": "nCTWapiZ7JXp",
        "outputId": "8b2695e5-dd7a-4a69-ebb7-0d48e1c88f13"
      },
      "outputs": [
        {
          "output_type": "stream",
          "name": "stdout",
          "text": [
            "deque(['A', 'B', 'C', 'D'])\n"
          ]
        }
      ],
      "source": [
        "from collections import deque\n",
        "\n",
        "fila = deque(['A', 'B', 'C'])\n",
        "\n",
        "#inserindo o elemento 'D'\n",
        "fila.append('D')\n",
        "\n",
        "print(fila)"
      ]
    },
    {
      "cell_type": "code",
      "source": [
        "#Removendo o 'A'\n",
        "fila.popleft()\n",
        "print(fila)"
      ],
      "metadata": {
        "colab": {
          "base_uri": "https://localhost:8080/"
        },
        "id": "j15LL5-p7v5z",
        "outputId": "857f7eb8-727a-47f5-af68-bc2ee8a044a8"
      },
      "execution_count": null,
      "outputs": [
        {
          "output_type": "stream",
          "name": "stdout",
          "text": [
            "deque(['B', 'C', 'D'])\n"
          ]
        }
      ]
    },
    {
      "cell_type": "code",
      "source": [
        "fila2 = deque(['A', 'B', 'C'])\n",
        "fila2.append('D')\n",
        "\n",
        "#Removendo o 'A' e usando o seu valor\n",
        "head = fila2.popleft()\n",
        "\n",
        "print(head)\n",
        "print(fila2)"
      ],
      "metadata": {
        "colab": {
          "base_uri": "https://localhost:8080/"
        },
        "id": "WPLg1go18Dfq",
        "outputId": "0972ebe3-1e75-4404-8536-457512b5f7a1"
      },
      "execution_count": null,
      "outputs": [
        {
          "output_type": "stream",
          "name": "stdout",
          "text": [
            "A\n",
            "deque(['B', 'C', 'D'])\n"
          ]
        }
      ]
    },
    {
      "cell_type": "code",
      "source": [
        "from typing import Deque, Any\n",
        "from collections import deque\n",
        "class Queue:\n",
        "  #Uma class representando uma fila\n",
        "  def __init__(self, maxlen=None) -> None:\n",
        "    # Deque permite enviar maxlen para criar um tamanho máximo para a fila\n",
        "    self.__items: Deque[Any] = deque(maxlen = maxlen)\n",
        "  def enqueue(self, *items: Any) -> None:\n",
        "    # Enqueue (enfileirar) é o mesmo que append\n",
        "    for item in items:\n",
        "      self.__items.append(item)\n",
        "  def dequeue(self) -> Any:\n",
        "    #Dequeue (desenfileirar) é o mesmo que popleft\n",
        "    if not self:\n",
        "      raise IndexError('pop from empty queue')\n",
        "    return self.__items.popleft()\n",
        "  def __repr__(self) -> str:\n",
        "    return str(self.__items)\n",
        "  def __bool__(self) -> bool:\n",
        "    return bool(self.__items)\n",
        "  def __len__(self) -> int:\n",
        "    return len(self.__items)\n",
        "\n",
        "if __name__ == \"__main__\":\n",
        "#instanciando\n",
        "  fila3 = Queue()\n",
        "\n",
        "# Enfileirando A, B e C\n",
        "fila3.enqueue('A', 'B', 'C')\n",
        "\n",
        "# Enfileirando 'D'\n",
        "fila3.enqueue('D')\n",
        "\n",
        "# Recuperando 'A'\n",
        "head = fila3.dequeue()\n",
        "print(head)\n",
        "\n",
        "# Mostrando a fila\n",
        "print(fila3)\n",
        "\n"
      ],
      "metadata": {
        "colab": {
          "base_uri": "https://localhost:8080/"
        },
        "id": "GUzN6LPD8kl3",
        "outputId": "df85ad2d-cf5b-43ba-a780-0fbecbebd49d"
      },
      "execution_count": null,
      "outputs": [
        {
          "output_type": "stream",
          "name": "stdout",
          "text": [
            "A\n",
            "deque(['B', 'C', 'D'])\n"
          ]
        }
      ]
    },
    {
      "cell_type": "code",
      "source": [
        "from typing import Deque, Any, Iterator\n",
        "from collections import deque\n",
        "\n",
        "class FilaClass:\n",
        "  def __init__(self, maxlen=None) -> None:\n",
        "    # Deque permite enviar maxlen\n",
        "    # para criar um tamanho máximo para\n",
        "    # a fila\n",
        "    self.__items: Deque[Any] = deque(maxlen=maxlen)\n",
        "\n",
        "  def enqueue(self, *items: Any) -> None:\n",
        "    #Enqueue (enfileirar) é o mesmo que append\n",
        "    for item in items:\n",
        "      self.__items.append(item)\n",
        "\n",
        "  def dequeue(self) -> Any:\n",
        "    #Dequeue (desenfileirar) é o mesmo que popleft\n",
        "    if not self:\n",
        "      raise IndexError('pop from empty queue')\n",
        "\n",
        "    return self.__items.popleft()\n",
        "\n",
        "  def __getitem__(self, index: int,) -> Any:\n",
        "    return self.__items[index]\n",
        "\n",
        "if __name__ == \"__main__\":\n",
        "# Instanciando\n",
        "  teste = FilaClass()\n",
        "\n",
        "# Enfileirando A, B, C e D\n",
        "teste.enqueue('A', 'B', 'C', 'D')\n",
        "\n",
        "# Obtendo o elemento com indice 1 ('B')\n",
        "print('Item com indice 1:', teste[1], end = '\\n\\n')\n",
        "\n",
        "# Interando com for em nossa fila\n",
        "for item in teste:\n",
        "  print('Intração:', item)"
      ],
      "metadata": {
        "colab": {
          "base_uri": "https://localhost:8080/"
        },
        "id": "-RoAjtdOArkr",
        "outputId": "0aac98ff-e386-4d1b-98ae-fd54f4842ab8"
      },
      "execution_count": 10,
      "outputs": [
        {
          "output_type": "stream",
          "name": "stdout",
          "text": [
            "Item com indice 1: B\n",
            "\n",
            "Intração: A\n",
            "Intração: B\n",
            "Intração: C\n",
            "Intração: D\n"
          ]
        }
      ]
    }
  ]
}
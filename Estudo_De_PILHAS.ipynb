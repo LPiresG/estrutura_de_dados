{
  "nbformat": 4,
  "nbformat_minor": 0,
  "metadata": {
    "colab": {
      "provenance": [],
      "authorship_tag": "ABX9TyOnAFMNu+EAevl4goyv5if/",
      "include_colab_link": true
    },
    "kernelspec": {
      "name": "python3",
      "display_name": "Python 3"
    },
    "language_info": {
      "name": "python"
    }
  },
  "cells": [
    {
      "cell_type": "markdown",
      "metadata": {
        "id": "view-in-github",
        "colab_type": "text"
      },
      "source": [
        "<a href=\"https://colab.research.google.com/github/LPiresG/estrutura_de_dados/blob/main/Estudo_De_PILHAS.ipynb\" target=\"_parent\"><img src=\"https://colab.research.google.com/assets/colab-badge.svg\" alt=\"Open In Colab\"/></a>"
      ]
    },
    {
      "cell_type": "code",
      "execution_count": 2,
      "metadata": {
        "colab": {
          "base_uri": "https://localhost:8080/"
        },
        "id": "VNYXvXukeHty",
        "outputId": "48339e4b-5809-4132-c151-d2bd279c7c1f"
      },
      "outputs": [
        {
          "output_type": "stream",
          "name": "stdout",
          "text": [
            "Livro 3\n"
          ]
        }
      ],
      "source": [
        "from typing import List\n",
        "\n",
        "# Pilha de livros co type annotation\n",
        "stack_of_books: List[str] = []\n",
        "\n",
        "# Adicionar livros no topo da pilha\n",
        "stack_of_books.append('Livro 1')\n",
        "stack_of_books.append('Livro 2')\n",
        "stack_of_books.append('Livro 3')\n",
        "\n",
        "# Obtendo o elemento mais novo\n",
        "livro = stack_of_books.pop()\n",
        "\n",
        "print(livro)"
      ]
    },
    {
      "cell_type": "code",
      "source": [
        "from typing import List\n",
        "\n",
        "pilha_de_livros: List[str] = []\n",
        "\n",
        "# Adicionar livros na lista\n",
        "pilha_de_livros.append('Livro I')\n",
        "pilha_de_livros.append('Livro II')\n",
        "pilha_de_livros.append('Livro III')\n",
        "\n",
        "# Obtendo o elemento mais novo\n",
        "livro_1 = pilha_de_livros.pop()\n",
        "livro_2 = pilha_de_livros.pop()\n",
        "livro_3 = pilha_de_livros.pop()\n",
        "\n",
        "# IndexError: pop from a empty list\n",
        "livro_4 = pilha_de_livros.pop()"
      ],
      "metadata": {
        "colab": {
          "base_uri": "https://localhost:8080/",
          "height": 176
        },
        "id": "4FYNf0LiikGk",
        "outputId": "62d1146a-ea31-429c-94ae-5c7d85bb34eb"
      },
      "execution_count": 3,
      "outputs": [
        {
          "output_type": "error",
          "ename": "IndexError",
          "evalue": "pop from empty list",
          "traceback": [
            "\u001b[0;31m---------------------------------------------------------------------------\u001b[0m",
            "\u001b[0;31mIndexError\u001b[0m                                Traceback (most recent call last)",
            "\u001b[0;32m<ipython-input-3-f0d5ada5c915>\u001b[0m in \u001b[0;36m<cell line: 16>\u001b[0;34m()\u001b[0m\n\u001b[1;32m     14\u001b[0m \u001b[0;34m\u001b[0m\u001b[0m\n\u001b[1;32m     15\u001b[0m \u001b[0;31m# IndexError: pop from a empty list\u001b[0m\u001b[0;34m\u001b[0m\u001b[0;34m\u001b[0m\u001b[0m\n\u001b[0;32m---> 16\u001b[0;31m \u001b[0mlivro_4\u001b[0m \u001b[0;34m=\u001b[0m \u001b[0mpilha_de_livros\u001b[0m\u001b[0;34m.\u001b[0m\u001b[0mpop\u001b[0m\u001b[0;34m(\u001b[0m\u001b[0;34m)\u001b[0m\u001b[0;34m\u001b[0m\u001b[0;34m\u001b[0m\u001b[0m\n\u001b[0m",
            "\u001b[0;31mIndexError\u001b[0m: pop from empty list"
          ]
        }
      ]
    },
    {
      "cell_type": "code",
      "source": [
        "from typing import List\n",
        "\n",
        "pilhaDeLivros: List[str] = []\n",
        "\n",
        "pilhaDeLivros.append('1° Livro')\n",
        "pilhaDeLivros.append('2° Livro')\n",
        "pilhaDeLivros.append('3° Livro')\n",
        "\n",
        "try:\n",
        "  livro_I = pilhaDeLivros.pop()\n",
        "  print(livro_I)\n",
        "\n",
        "  livro_II = pilhaDeLivros.pop()\n",
        "  print(livro_II)\n",
        "\n",
        "  livro_III = pilhaDeLivros.pop()\n",
        "  print(livro_III)\n",
        "\n",
        "  # IndexError:\n",
        "  livro_IV = pilhaDeLivros.pop()\n",
        "\n",
        "except IndexError:\n",
        "  print('A lista não contem mais itens')"
      ],
      "metadata": {
        "colab": {
          "base_uri": "https://localhost:8080/"
        },
        "id": "Mb4gSEtmj_ks",
        "outputId": "f83b5e69-938c-4867-dead-3de086f40cae"
      },
      "execution_count": 4,
      "outputs": [
        {
          "output_type": "stream",
          "name": "stdout",
          "text": [
            "3° Livro\n",
            "2° Livro\n",
            "1° Livro\n",
            "A lista não contem mais itens\n"
          ]
        }
      ]
    },
    {
      "cell_type": "code",
      "source": [
        "from typing import List\n",
        "\n",
        "outraPilhaDeLivros: List[str] = []\n",
        "\n",
        "outraPilhaDeLivros.append('LivroI')\n",
        "outraPilhaDeLivros.append('LivroII')\n",
        "outraPilhaDeLivros.append('LivroIII')\n",
        "\n",
        "# Laço for\n",
        "for livrosDaLista in outraPilhaDeLivros[::-1]:\n",
        "  print(livrosDaLista)\n",
        "\n",
        "\n"
      ],
      "metadata": {
        "colab": {
          "base_uri": "https://localhost:8080/"
        },
        "id": "jgbwc08vpJKT",
        "outputId": "d54a4386-22f9-4ac1-aed8-8718672b06e7"
      },
      "execution_count": 7,
      "outputs": [
        {
          "output_type": "stream",
          "name": "stdout",
          "text": [
            "LivroIII\n",
            "LivroII\n",
            "LivroI\n"
          ]
        }
      ]
    },
    {
      "cell_type": "code",
      "source": [
        "# Laço while\n",
        "while outraPilhaDeLivros:\n",
        "  book = outraPilhaDeLivros.pop()\n",
        "  print(book)"
      ],
      "metadata": {
        "colab": {
          "base_uri": "https://localhost:8080/"
        },
        "id": "MTl5Qc6EqLes",
        "outputId": "4ba823a5-a2f3-4e02-e45e-e0de3478a06d"
      },
      "execution_count": 8,
      "outputs": [
        {
          "output_type": "stream",
          "name": "stdout",
          "text": [
            "LivroIII\n",
            "LivroII\n",
            "LivroI\n"
          ]
        }
      ]
    }
  ]
}
{
  "nbformat": 4,
  "nbformat_minor": 0,
  "metadata": {
    "colab": {
      "provenance": [],
      "toc_visible": true,
      "authorship_tag": "ABX9TyPqhg5qm4KChGXhou2PhpxT",
      "include_colab_link": true
    },
    "kernelspec": {
      "name": "python3",
      "display_name": "Python 3"
    },
    "language_info": {
      "name": "python"
    }
  },
  "cells": [
    {
      "cell_type": "markdown",
      "metadata": {
        "id": "view-in-github",
        "colab_type": "text"
      },
      "source": [
        "<a href=\"https://colab.research.google.com/github/LPiresG/estrutura_de_dados/blob/main/estrutura_de_dados.ipynb\" target=\"_parent\"><img src=\"https://colab.research.google.com/assets/colab-badge.svg\" alt=\"Open In Colab\"/></a>"
      ]
    },
    {
      "cell_type": "markdown",
      "source": [
        "**Curso de Engenharia de Software - Diciplina Estrutura de Dados Nivelamento em Python** - 14/03/2024\n",
        "\n",
        "**Aluno Lucas Pires Gonçalves** - ICEV\n",
        "\n",
        "Mais informações:"
      ],
      "metadata": {
        "id": "Rpse-zd_eH7v"
      }
    },
    {
      "cell_type": "markdown",
      "source": [
        "# Introdução ao Python"
      ],
      "metadata": {
        "id": "kVWaknfMgQMA"
      }
    },
    {
      "cell_type": "code",
      "source": [
        "# Preimeira Função\n",
        "num1 = 3\n",
        "num2 = 15\n",
        "mult = num1 * num2\n",
        "print(mult)"
      ],
      "metadata": {
        "id": "lyDPvrPUg06_"
      },
      "execution_count": null,
      "outputs": []
    },
    {
      "cell_type": "markdown",
      "source": [
        "# Variáveis"
      ],
      "metadata": {
        "id": "jYKnmD4UhuYK"
      }
    },
    {
      "cell_type": "code",
      "source": [
        "# Criando Variáveis\n",
        "x = 10\n",
        "y = \"Lucas\"\n",
        "\n",
        "# Mostrando Variáveis\n",
        "print(x)\n",
        "print(y)"
      ],
      "metadata": {
        "id": "mo21NrJLh0vZ"
      },
      "execution_count": null,
      "outputs": []
    },
    {
      "cell_type": "code",
      "source": [
        "# Outra forma de mostrar o conteudo de variaveis\n",
        "y"
      ],
      "metadata": {
        "id": "fAPgjQUGjlMF"
      },
      "execution_count": null,
      "outputs": []
    },
    {
      "cell_type": "code",
      "source": [
        "# Somar variaveis e numeros\n",
        "soma = num1 + num2\n",
        "print(soma)"
      ],
      "metadata": {
        "id": "4zGxy9dTj3m5"
      },
      "execution_count": null,
      "outputs": []
    },
    {
      "cell_type": "markdown",
      "source": [
        "# Lendo valores do teclado"
      ],
      "metadata": {
        "id": "zkj3rXVNlLCG"
      }
    },
    {
      "cell_type": "code",
      "source": [
        "# input\n",
        "mens = input()\n",
        "print(mens)"
      ],
      "metadata": {
        "id": "QZuWysJ7lPei"
      },
      "execution_count": null,
      "outputs": []
    },
    {
      "cell_type": "code",
      "source": [
        "# Soma de valores decimais\n",
        "num3 = float(input('Digite um valor decimal '))\n",
        "num4 = float(input('Digite outro valor decimal '))\n",
        "soma = num3 + num4\n",
        "print(soma)"
      ],
      "metadata": {
        "colab": {
          "base_uri": "https://localhost:8080/"
        },
        "id": "_moWOEE1nPG-",
        "outputId": "2caaf78e-fa60-4f5b-898a-19cdb25a9463"
      },
      "execution_count": null,
      "outputs": [
        {
          "output_type": "stream",
          "name": "stdout",
          "text": [
            "Digite um valor decimal10.5\n",
            "Digite um valor decimal12.3\n",
            "22.8\n"
          ]
        }
      ]
    },
    {
      "cell_type": "markdown",
      "source": [
        "# If,Else,Elif"
      ],
      "metadata": {
        "id": "evaXnvqTli9B"
      }
    },
    {
      "cell_type": "code",
      "source": [
        "num5 = int(input('Digite um numero '))\n",
        "rest = num5 % 2\n",
        "if(rest == 0) :\n",
        "  print(\"NUMERO PAR\")\n",
        "else :\n",
        "  print('NUMERO IMPAR')"
      ],
      "metadata": {
        "colab": {
          "base_uri": "https://localhost:8080/"
        },
        "id": "rWAa_zMDlqp6",
        "outputId": "195cdef5-c499-4e04-abf4-dcc4fe7eb0c3"
      },
      "execution_count": null,
      "outputs": [
        {
          "output_type": "stream",
          "name": "stdout",
          "text": [
            "Digite um numero 37\n",
            "NUMERO IMPAR\n"
          ]
        }
      ]
    },
    {
      "cell_type": "code",
      "source": [
        "idade = int(input('Digite sua idade: '))\n",
        "if(idade < 12):\n",
        "  print('Criança')\n",
        "elif(idade < 18):\n",
        "  print('Adolecente')\n",
        "else:\n",
        "  print('Adulto')"
      ],
      "metadata": {
        "colab": {
          "base_uri": "https://localhost:8080/"
        },
        "id": "6cURTsuyoL1o",
        "outputId": "f3cd193f-9a03-441e-b640-127a1c5ba523"
      },
      "execution_count": null,
      "outputs": [
        {
          "output_type": "stream",
          "name": "stdout",
          "text": [
            "Digite sua idade: 11\n",
            "Criança\n"
          ]
        }
      ]
    },
    {
      "cell_type": "markdown",
      "source": [
        "# Exericio\n",
        "\n",
        "**Elebora um pequeno trechode codigo que leia 4 notas e calcule a média e mostre na tela se o aluno obtiver media > 7 \"Aprovado\" e media < 7 em \"Recuperação\"**"
      ],
      "metadata": {
        "id": "ZsKaRTi_s3Nk"
      }
    },
    {
      "cell_type": "code",
      "source": [
        "nota1 = float(input('Digite a primeira nota: '))\n",
        "nota2 = float(input('Digite a segunda nota: '))\n",
        "nota3 = float(input('Digite a terceira nota: '))\n",
        "nota4 = float(input('Digite a quarta nota: '))\n",
        "\n",
        "media = (nota1 + nota2 + nota3 + nota4)/4\n",
        "\n",
        "if(media < 7):\n",
        "  print(\"Recuperação\")\n",
        "else:\n",
        "  print(\"Aprovado\")\n",
        "\n"
      ],
      "metadata": {
        "colab": {
          "base_uri": "https://localhost:8080/"
        },
        "id": "t4oESwKdt4gG",
        "outputId": "9cea76a6-1dca-462f-91e1-c8c98f248237"
      },
      "execution_count": null,
      "outputs": [
        {
          "output_type": "stream",
          "name": "stdout",
          "text": [
            "Digite a primeira nota: 7\n",
            "Digite a segunda nota: 7\n",
            "Digite a terceira nota: 7\n",
            "Digite a quarta nota: 7\n",
            "Aprovado\n"
          ]
        }
      ]
    }
  ]
}